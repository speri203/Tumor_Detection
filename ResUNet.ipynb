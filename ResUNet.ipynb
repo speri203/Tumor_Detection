{
  "nbformat": 4,
  "nbformat_minor": 0,
  "metadata": {
    "colab": {
      "name": "ResUNet",
      "provenance": [],
      "collapsed_sections": []
    },
    "kernelspec": {
      "name": "python3",
      "display_name": "Python 3"
    },
    "accelerator": "GPU"
  },
  "cells": [
    {
      "cell_type": "code",
      "metadata": {
        "id": "g_pMnkBVkKG2",
        "outputId": "4798ff71-baae-464e-c5af-d023783e4499",
        "colab": {
          "base_uri": "https://localhost:8080/",
          "height": 34
        }
      },
      "source": [
        "from google.colab import drive\n",
        "\n",
        "drive.mount('/content/drive')"
      ],
      "execution_count": 1,
      "outputs": [
        {
          "output_type": "stream",
          "text": [
            "Drive already mounted at /content/drive; to attempt to forcibly remount, call drive.mount(\"/content/drive\", force_remount=True).\n"
          ],
          "name": "stdout"
        }
      ]
    },
    {
      "cell_type": "code",
      "metadata": {
        "id": "bT2mc4Z6kL9Z",
        "outputId": "0c18f093-8a71-4dd2-c6bb-3ad95672de2b",
        "colab": {
          "base_uri": "https://localhost:8080/",
          "height": 34
        }
      },
      "source": [
        "%cd '/content/drive/My Drive/Colab Notebooks/U-demy - AI Program/AI in Healthcare/Brain_MRI'"
      ],
      "execution_count": 2,
      "outputs": [
        {
          "output_type": "stream",
          "text": [
            "/content/drive/My Drive/Colab Notebooks/U-demy - AI Program/AI in Healthcare/Brain_MRI\n"
          ],
          "name": "stdout"
        }
      ]
    },
    {
      "cell_type": "code",
      "metadata": {
        "id": "CzYK4aqOkL_4"
      },
      "source": [
        "## Importing required modules\n",
        "import pandas as pd\n",
        "import numpy as np\n",
        "import seaborn as sns\n",
        "import matplotlib.pyplot as plt\n",
        "import zipfile\n",
        "import cv2\n",
        "from skimage import io\n",
        "import tensorflow as tf\n",
        "from tensorflow.python.keras import Sequential\n",
        "from tensorflow.keras import layers, optimizers\n",
        "from tensorflow.keras.applications import DenseNet121\n",
        "from tensorflow.keras.applications.resnet50 import ResNet50\n",
        "from tensorflow.keras.models import Model, load_model\n",
        "from tensorflow.keras.initializers import glorot_uniform\n",
        "from tensorflow.keras.utils import plot_model\n",
        "from tensorflow.keras.callbacks import ReduceLROnPlateau, EarlyStopping, ModelCheckpoint, LearningRateScheduler\n",
        "from IPython.display import display\n",
        "from tensorflow.keras import backend as K\n",
        "from sklearn.preprocessing import StandardScaler, normalize\n",
        "import os\n",
        "import random"
      ],
      "execution_count": 34,
      "outputs": []
    },
    {
      "cell_type": "code",
      "metadata": {
        "id": "sSWE96-4kMCL"
      },
      "source": [
        "df = pd.read_csv('data_mask.csv')"
      ],
      "execution_count": 4,
      "outputs": []
    },
    {
      "cell_type": "code",
      "metadata": {
        "id": "MuK4gLWLkMEd",
        "outputId": "9a6a0d1f-f773-4a62-c751-b04c01ae5b1d",
        "colab": {
          "base_uri": "https://localhost:8080/",
          "height": 34
        }
      },
      "source": [
        "mask_df = df[df['mask'] == 1]\n",
        "mask_df.shape"
      ],
      "execution_count": 5,
      "outputs": [
        {
          "output_type": "execute_result",
          "data": {
            "text/plain": [
              "(1373, 4)"
            ]
          },
          "metadata": {
            "tags": []
          },
          "execution_count": 5
        }
      ]
    },
    {
      "cell_type": "code",
      "metadata": {
        "id": "5soUYZqDkMGz"
      },
      "source": [
        "## splitting data up into training and testing\n",
        "from sklearn.model_selection import train_test_split\n",
        "\n",
        "X_train, X_val = train_test_split(mask_df, test_size = 0.15)\n",
        "X_test, X_val = train_test_split(X_val, test_size = 0.5)"
      ],
      "execution_count": 6,
      "outputs": []
    },
    {
      "cell_type": "code",
      "metadata": {
        "id": "NYZSqF7QkMI_",
        "outputId": "df763dd4-c4a2-4b71-a3ac-a02a8cecfe0b",
        "colab": {
          "base_uri": "https://localhost:8080/",
          "height": 68
        }
      },
      "source": [
        "print('Training ds: {}'.format(X_train.shape))\n",
        "print('Validation ds: {}'.format(X_val.shape))\n",
        "print('Testing ds: {}'.format(X_test.shape))"
      ],
      "execution_count": 7,
      "outputs": [
        {
          "output_type": "stream",
          "text": [
            "Training ds: (1167, 4)\n",
            "Validation ds: (103, 4)\n",
            "Testing ds: (103, 4)\n"
          ],
          "name": "stdout"
        }
      ]
    },
    {
      "cell_type": "code",
      "metadata": {
        "id": "hLEuSBC4kMLY"
      },
      "source": [
        "## The input will be the MRI image and the output will be the mask segmentation \n",
        "train_ids = list(X_train.image_path)\n",
        "train_mask = list(X_train.mask_path)\n",
        "\n",
        "val_ids = list(X_val.image_path)\n",
        "val_mask = list(X_val.mask_path)"
      ],
      "execution_count": 8,
      "outputs": []
    },
    {
      "cell_type": "code",
      "metadata": {
        "id": "9BFPydMRkMNx"
      },
      "source": [
        "from utilities import DataGenerator\n",
        "\n",
        "training_gen = DataGenerator(train_ids, train_mask)\n",
        "validation_gen = DataGenerator(val_ids, val_mask)"
      ],
      "execution_count": 9,
      "outputs": []
    },
    {
      "cell_type": "code",
      "metadata": {
        "id": "kSgCxXnPkMQO"
      },
      "source": [
        "from tensorflow.keras.layers import Input, Conv2D, BatchNormalization, MaxPool2D, Activation, Add, UpSampling2D, Concatenate\n",
        "## Building the residual block\n",
        "def residual_block(X, filter):\n",
        "\n",
        "  ## Copying the input\n",
        "  X_copy = X\n",
        "\n",
        "  ## Main block\n",
        "  X = Conv2D(filter, kernel_size = (1, 1), strides = (1, 1), kernel_initializer = 'he_normal')(X)\n",
        "  X = BatchNormalization()(X)\n",
        "  X = Activation('relu')(X)\n",
        "\n",
        "  X = Conv2D(filter, kernel_size = (3, 3), strides = (1, 1), padding = 'same', kernel_initializer = 'he_normal')(X)\n",
        "  X = BatchNormalization()(X)\n",
        "\n",
        "  ## SHhortpath (Due to the dimensions changing with the 2 Conv2D operations)\n",
        "  X_copy = Conv2D(filter, kernel_size = (1, 1), strides = (1, 1), kernel_initializer = 'he_normal')(X_copy)\n",
        "  X_copy = BatchNormalization()(X_copy)\n",
        "\n",
        "  ## Adding both paths together\n",
        "  X = Add()([X, X_copy])\n",
        "  X = Activation('relu')(X)\n",
        "\n",
        "  return X"
      ],
      "execution_count": 37,
      "outputs": []
    },
    {
      "cell_type": "code",
      "metadata": {
        "id": "Mgm4QSdikMSu"
      },
      "source": [
        "## Defining the upsampling \n",
        "def upsampling_concat(X, encoder_output):\n",
        "  X = UpSampling2D((2, 2)) (X)\n",
        "  merge = Concatenate()([X, encoder_output])\n",
        "  \n",
        "  return merge"
      ],
      "execution_count": 38,
      "outputs": []
    },
    {
      "cell_type": "code",
      "metadata": {
        "id": "HZkNm8PokMU8"
      },
      "source": [
        "\n",
        "## Building ResUNet\n",
        "input_size = (256, 256, 3)\n",
        "\n",
        "X_input = Input(input_size)\n",
        "\n",
        "## Implementing encoder steps\n",
        "conv_input = Conv2D(16, 3, activation = 'relu', padding = 'same', kernel_initializer = 'he_normal')(X_input)\n",
        "conv_input = BatchNormalization()(conv_input)\n",
        "conv_input = Conv2D(16, 3, activation = 'relu', padding = 'same', kernel_initializer = 'he_normal')(conv_input)\n",
        "conv_input = BatchNormalization()(conv_input)\n",
        "conv_input_pooling = MaxPool2D(pool_size= (2, 2))(conv_input)\n",
        "\n",
        "conv2_input = residual_block(conv_input_pooling, 32)\n",
        "conv2_pooling = MaxPool2D(pool_size= (2, 2))(conv2_input)\n",
        "\n",
        "conv3_input = residual_block(conv2_pooling, 64)\n",
        "conv3_pooling = MaxPool2D(pool_size= (2, 2))(conv3_input)\n",
        "\n",
        "conv4_input = residual_block(conv3_pooling, 128)\n",
        "conv4_pooling = MaxPool2D(pool_size= (2, 2))(conv4_input)\n",
        "\n",
        "## Bottleneck \n",
        "conv5_input = residual_block(conv4_pooling, 256)\n",
        "\n",
        "## Transitioning into decoding\n",
        "decode_1 = upsampling_concat(conv5_input, conv4_input)\n",
        "decode_1 = residual_block(decode_1, 128)\n",
        "\n",
        "decode_2 = upsampling_concat(decode_1, conv3_input)\n",
        "decode_2 = residual_block(decode_2, 64)\n",
        "\n",
        "decode_3 = upsampling_concat(decode_2, conv2_input)\n",
        "decode_3 = residual_block(decode_3, 32)\n",
        "\n",
        "decode_4 = upsampling_concat(decode_3, conv_input)\n",
        "decode_4 = residual_block(decode_4, 16)\n",
        "\n",
        "## Adding output convolution\n",
        "conv_output = Conv2D(1, (1,1), padding = 'same', activation = 'sigmoid')(decode_4)"
      ],
      "execution_count": 42,
      "outputs": []
    },
    {
      "cell_type": "code",
      "metadata": {
        "id": "F09j5og5kMXU",
        "outputId": "923ab79e-78d3-420b-b97c-0a4b2bb5242b",
        "colab": {
          "base_uri": "https://localhost:8080/",
          "height": 1000
        }
      },
      "source": [
        "## Model architecture\n",
        "model = Model(inputs = X_input, outputs = conv_output)\n",
        "model.summary()"
      ],
      "execution_count": 44,
      "outputs": [
        {
          "output_type": "stream",
          "text": [
            "Model: \"functional_3\"\n",
            "__________________________________________________________________________________________________\n",
            "Layer (type)                    Output Shape         Param #     Connected to                     \n",
            "==================================================================================================\n",
            "input_16 (InputLayer)           [(None, 256, 256, 3) 0                                            \n",
            "__________________________________________________________________________________________________\n",
            "conv2d_128 (Conv2D)             (None, 256, 256, 16) 448         input_16[0][0]                   \n",
            "__________________________________________________________________________________________________\n",
            "batch_normalization_126 (BatchN (None, 256, 256, 16) 64          conv2d_128[0][0]                 \n",
            "__________________________________________________________________________________________________\n",
            "conv2d_129 (Conv2D)             (None, 256, 256, 16) 2320        batch_normalization_126[0][0]    \n",
            "__________________________________________________________________________________________________\n",
            "batch_normalization_127 (BatchN (None, 256, 256, 16) 64          conv2d_129[0][0]                 \n",
            "__________________________________________________________________________________________________\n",
            "max_pooling2d_28 (MaxPooling2D) (None, 128, 128, 16) 0           batch_normalization_127[0][0]    \n",
            "__________________________________________________________________________________________________\n",
            "conv2d_130 (Conv2D)             (None, 128, 128, 32) 544         max_pooling2d_28[0][0]           \n",
            "__________________________________________________________________________________________________\n",
            "batch_normalization_128 (BatchN (None, 128, 128, 32) 128         conv2d_130[0][0]                 \n",
            "__________________________________________________________________________________________________\n",
            "activation_68 (Activation)      (None, 128, 128, 32) 0           batch_normalization_128[0][0]    \n",
            "__________________________________________________________________________________________________\n",
            "conv2d_131 (Conv2D)             (None, 128, 128, 32) 9248        activation_68[0][0]              \n",
            "__________________________________________________________________________________________________\n",
            "conv2d_132 (Conv2D)             (None, 128, 128, 32) 544         max_pooling2d_28[0][0]           \n",
            "__________________________________________________________________________________________________\n",
            "batch_normalization_129 (BatchN (None, 128, 128, 32) 128         conv2d_131[0][0]                 \n",
            "__________________________________________________________________________________________________\n",
            "batch_normalization_130 (BatchN (None, 128, 128, 32) 128         conv2d_132[0][0]                 \n",
            "__________________________________________________________________________________________________\n",
            "add_33 (Add)                    (None, 128, 128, 32) 0           batch_normalization_129[0][0]    \n",
            "                                                                 batch_normalization_130[0][0]    \n",
            "__________________________________________________________________________________________________\n",
            "activation_69 (Activation)      (None, 128, 128, 32) 0           add_33[0][0]                     \n",
            "__________________________________________________________________________________________________\n",
            "max_pooling2d_29 (MaxPooling2D) (None, 64, 64, 32)   0           activation_69[0][0]              \n",
            "__________________________________________________________________________________________________\n",
            "conv2d_133 (Conv2D)             (None, 64, 64, 64)   2112        max_pooling2d_29[0][0]           \n",
            "__________________________________________________________________________________________________\n",
            "batch_normalization_131 (BatchN (None, 64, 64, 64)   256         conv2d_133[0][0]                 \n",
            "__________________________________________________________________________________________________\n",
            "activation_70 (Activation)      (None, 64, 64, 64)   0           batch_normalization_131[0][0]    \n",
            "__________________________________________________________________________________________________\n",
            "conv2d_134 (Conv2D)             (None, 64, 64, 64)   36928       activation_70[0][0]              \n",
            "__________________________________________________________________________________________________\n",
            "conv2d_135 (Conv2D)             (None, 64, 64, 64)   2112        max_pooling2d_29[0][0]           \n",
            "__________________________________________________________________________________________________\n",
            "batch_normalization_132 (BatchN (None, 64, 64, 64)   256         conv2d_134[0][0]                 \n",
            "__________________________________________________________________________________________________\n",
            "batch_normalization_133 (BatchN (None, 64, 64, 64)   256         conv2d_135[0][0]                 \n",
            "__________________________________________________________________________________________________\n",
            "add_34 (Add)                    (None, 64, 64, 64)   0           batch_normalization_132[0][0]    \n",
            "                                                                 batch_normalization_133[0][0]    \n",
            "__________________________________________________________________________________________________\n",
            "activation_71 (Activation)      (None, 64, 64, 64)   0           add_34[0][0]                     \n",
            "__________________________________________________________________________________________________\n",
            "max_pooling2d_30 (MaxPooling2D) (None, 32, 32, 64)   0           activation_71[0][0]              \n",
            "__________________________________________________________________________________________________\n",
            "conv2d_136 (Conv2D)             (None, 32, 32, 128)  8320        max_pooling2d_30[0][0]           \n",
            "__________________________________________________________________________________________________\n",
            "batch_normalization_134 (BatchN (None, 32, 32, 128)  512         conv2d_136[0][0]                 \n",
            "__________________________________________________________________________________________________\n",
            "activation_72 (Activation)      (None, 32, 32, 128)  0           batch_normalization_134[0][0]    \n",
            "__________________________________________________________________________________________________\n",
            "conv2d_137 (Conv2D)             (None, 32, 32, 128)  147584      activation_72[0][0]              \n",
            "__________________________________________________________________________________________________\n",
            "conv2d_138 (Conv2D)             (None, 32, 32, 128)  8320        max_pooling2d_30[0][0]           \n",
            "__________________________________________________________________________________________________\n",
            "batch_normalization_135 (BatchN (None, 32, 32, 128)  512         conv2d_137[0][0]                 \n",
            "__________________________________________________________________________________________________\n",
            "batch_normalization_136 (BatchN (None, 32, 32, 128)  512         conv2d_138[0][0]                 \n",
            "__________________________________________________________________________________________________\n",
            "add_35 (Add)                    (None, 32, 32, 128)  0           batch_normalization_135[0][0]    \n",
            "                                                                 batch_normalization_136[0][0]    \n",
            "__________________________________________________________________________________________________\n",
            "activation_73 (Activation)      (None, 32, 32, 128)  0           add_35[0][0]                     \n",
            "__________________________________________________________________________________________________\n",
            "max_pooling2d_31 (MaxPooling2D) (None, 16, 16, 128)  0           activation_73[0][0]              \n",
            "__________________________________________________________________________________________________\n",
            "conv2d_139 (Conv2D)             (None, 16, 16, 256)  33024       max_pooling2d_31[0][0]           \n",
            "__________________________________________________________________________________________________\n",
            "batch_normalization_137 (BatchN (None, 16, 16, 256)  1024        conv2d_139[0][0]                 \n",
            "__________________________________________________________________________________________________\n",
            "activation_74 (Activation)      (None, 16, 16, 256)  0           batch_normalization_137[0][0]    \n",
            "__________________________________________________________________________________________________\n",
            "conv2d_140 (Conv2D)             (None, 16, 16, 256)  590080      activation_74[0][0]              \n",
            "__________________________________________________________________________________________________\n",
            "conv2d_141 (Conv2D)             (None, 16, 16, 256)  33024       max_pooling2d_31[0][0]           \n",
            "__________________________________________________________________________________________________\n",
            "batch_normalization_138 (BatchN (None, 16, 16, 256)  1024        conv2d_140[0][0]                 \n",
            "__________________________________________________________________________________________________\n",
            "batch_normalization_139 (BatchN (None, 16, 16, 256)  1024        conv2d_141[0][0]                 \n",
            "__________________________________________________________________________________________________\n",
            "add_36 (Add)                    (None, 16, 16, 256)  0           batch_normalization_138[0][0]    \n",
            "                                                                 batch_normalization_139[0][0]    \n",
            "__________________________________________________________________________________________________\n",
            "activation_75 (Activation)      (None, 16, 16, 256)  0           add_36[0][0]                     \n",
            "__________________________________________________________________________________________________\n",
            "up_sampling2d_11 (UpSampling2D) (None, 32, 32, 256)  0           activation_75[0][0]              \n",
            "__________________________________________________________________________________________________\n",
            "concatenate_10 (Concatenate)    (None, 32, 32, 384)  0           up_sampling2d_11[0][0]           \n",
            "                                                                 activation_73[0][0]              \n",
            "__________________________________________________________________________________________________\n",
            "conv2d_142 (Conv2D)             (None, 32, 32, 128)  49280       concatenate_10[0][0]             \n",
            "__________________________________________________________________________________________________\n",
            "batch_normalization_140 (BatchN (None, 32, 32, 128)  512         conv2d_142[0][0]                 \n",
            "__________________________________________________________________________________________________\n",
            "activation_76 (Activation)      (None, 32, 32, 128)  0           batch_normalization_140[0][0]    \n",
            "__________________________________________________________________________________________________\n",
            "conv2d_143 (Conv2D)             (None, 32, 32, 128)  147584      activation_76[0][0]              \n",
            "__________________________________________________________________________________________________\n",
            "conv2d_144 (Conv2D)             (None, 32, 32, 128)  49280       concatenate_10[0][0]             \n",
            "__________________________________________________________________________________________________\n",
            "batch_normalization_141 (BatchN (None, 32, 32, 128)  512         conv2d_143[0][0]                 \n",
            "__________________________________________________________________________________________________\n",
            "batch_normalization_142 (BatchN (None, 32, 32, 128)  512         conv2d_144[0][0]                 \n",
            "__________________________________________________________________________________________________\n",
            "add_37 (Add)                    (None, 32, 32, 128)  0           batch_normalization_141[0][0]    \n",
            "                                                                 batch_normalization_142[0][0]    \n",
            "__________________________________________________________________________________________________\n",
            "activation_77 (Activation)      (None, 32, 32, 128)  0           add_37[0][0]                     \n",
            "__________________________________________________________________________________________________\n",
            "up_sampling2d_12 (UpSampling2D) (None, 64, 64, 128)  0           activation_77[0][0]              \n",
            "__________________________________________________________________________________________________\n",
            "concatenate_11 (Concatenate)    (None, 64, 64, 192)  0           up_sampling2d_12[0][0]           \n",
            "                                                                 activation_71[0][0]              \n",
            "__________________________________________________________________________________________________\n",
            "conv2d_145 (Conv2D)             (None, 64, 64, 64)   12352       concatenate_11[0][0]             \n",
            "__________________________________________________________________________________________________\n",
            "batch_normalization_143 (BatchN (None, 64, 64, 64)   256         conv2d_145[0][0]                 \n",
            "__________________________________________________________________________________________________\n",
            "activation_78 (Activation)      (None, 64, 64, 64)   0           batch_normalization_143[0][0]    \n",
            "__________________________________________________________________________________________________\n",
            "conv2d_146 (Conv2D)             (None, 64, 64, 64)   36928       activation_78[0][0]              \n",
            "__________________________________________________________________________________________________\n",
            "conv2d_147 (Conv2D)             (None, 64, 64, 64)   12352       concatenate_11[0][0]             \n",
            "__________________________________________________________________________________________________\n",
            "batch_normalization_144 (BatchN (None, 64, 64, 64)   256         conv2d_146[0][0]                 \n",
            "__________________________________________________________________________________________________\n",
            "batch_normalization_145 (BatchN (None, 64, 64, 64)   256         conv2d_147[0][0]                 \n",
            "__________________________________________________________________________________________________\n",
            "add_38 (Add)                    (None, 64, 64, 64)   0           batch_normalization_144[0][0]    \n",
            "                                                                 batch_normalization_145[0][0]    \n",
            "__________________________________________________________________________________________________\n",
            "activation_79 (Activation)      (None, 64, 64, 64)   0           add_38[0][0]                     \n",
            "__________________________________________________________________________________________________\n",
            "up_sampling2d_13 (UpSampling2D) (None, 128, 128, 64) 0           activation_79[0][0]              \n",
            "__________________________________________________________________________________________________\n",
            "concatenate_12 (Concatenate)    (None, 128, 128, 96) 0           up_sampling2d_13[0][0]           \n",
            "                                                                 activation_69[0][0]              \n",
            "__________________________________________________________________________________________________\n",
            "conv2d_148 (Conv2D)             (None, 128, 128, 32) 3104        concatenate_12[0][0]             \n",
            "__________________________________________________________________________________________________\n",
            "batch_normalization_146 (BatchN (None, 128, 128, 32) 128         conv2d_148[0][0]                 \n",
            "__________________________________________________________________________________________________\n",
            "activation_80 (Activation)      (None, 128, 128, 32) 0           batch_normalization_146[0][0]    \n",
            "__________________________________________________________________________________________________\n",
            "conv2d_149 (Conv2D)             (None, 128, 128, 32) 9248        activation_80[0][0]              \n",
            "__________________________________________________________________________________________________\n",
            "conv2d_150 (Conv2D)             (None, 128, 128, 32) 3104        concatenate_12[0][0]             \n",
            "__________________________________________________________________________________________________\n",
            "batch_normalization_147 (BatchN (None, 128, 128, 32) 128         conv2d_149[0][0]                 \n",
            "__________________________________________________________________________________________________\n",
            "batch_normalization_148 (BatchN (None, 128, 128, 32) 128         conv2d_150[0][0]                 \n",
            "__________________________________________________________________________________________________\n",
            "add_39 (Add)                    (None, 128, 128, 32) 0           batch_normalization_147[0][0]    \n",
            "                                                                 batch_normalization_148[0][0]    \n",
            "__________________________________________________________________________________________________\n",
            "activation_81 (Activation)      (None, 128, 128, 32) 0           add_39[0][0]                     \n",
            "__________________________________________________________________________________________________\n",
            "up_sampling2d_14 (UpSampling2D) (None, 256, 256, 32) 0           activation_81[0][0]              \n",
            "__________________________________________________________________________________________________\n",
            "concatenate_13 (Concatenate)    (None, 256, 256, 48) 0           up_sampling2d_14[0][0]           \n",
            "                                                                 batch_normalization_127[0][0]    \n",
            "__________________________________________________________________________________________________\n",
            "conv2d_151 (Conv2D)             (None, 256, 256, 16) 784         concatenate_13[0][0]             \n",
            "__________________________________________________________________________________________________\n",
            "batch_normalization_149 (BatchN (None, 256, 256, 16) 64          conv2d_151[0][0]                 \n",
            "__________________________________________________________________________________________________\n",
            "activation_82 (Activation)      (None, 256, 256, 16) 0           batch_normalization_149[0][0]    \n",
            "__________________________________________________________________________________________________\n",
            "conv2d_152 (Conv2D)             (None, 256, 256, 16) 2320        activation_82[0][0]              \n",
            "__________________________________________________________________________________________________\n",
            "conv2d_153 (Conv2D)             (None, 256, 256, 16) 784         concatenate_13[0][0]             \n",
            "__________________________________________________________________________________________________\n",
            "batch_normalization_150 (BatchN (None, 256, 256, 16) 64          conv2d_152[0][0]                 \n",
            "__________________________________________________________________________________________________\n",
            "batch_normalization_151 (BatchN (None, 256, 256, 16) 64          conv2d_153[0][0]                 \n",
            "__________________________________________________________________________________________________\n",
            "add_40 (Add)                    (None, 256, 256, 16) 0           batch_normalization_150[0][0]    \n",
            "                                                                 batch_normalization_151[0][0]    \n",
            "__________________________________________________________________________________________________\n",
            "activation_83 (Activation)      (None, 256, 256, 16) 0           add_40[0][0]                     \n",
            "__________________________________________________________________________________________________\n",
            "conv2d_154 (Conv2D)             (None, 256, 256, 1)  17          activation_83[0][0]              \n",
            "==================================================================================================\n",
            "Total params: 1,210,513\n",
            "Trainable params: 1,206,129\n",
            "Non-trainable params: 4,384\n",
            "__________________________________________________________________________________________________\n"
          ],
          "name": "stdout"
        }
      ]
    },
    {
      "cell_type": "code",
      "metadata": {
        "id": "4J50FwitkMZw"
      },
      "source": [
        ""
      ],
      "execution_count": 11,
      "outputs": []
    },
    {
      "cell_type": "code",
      "metadata": {
        "id": "2TVpUb0tkMb-"
      },
      "source": [
        ""
      ],
      "execution_count": 11,
      "outputs": []
    },
    {
      "cell_type": "code",
      "metadata": {
        "id": "OYdZu3pWkMef"
      },
      "source": [
        ""
      ],
      "execution_count": 11,
      "outputs": []
    },
    {
      "cell_type": "code",
      "metadata": {
        "id": "XkXq93HDkMg_"
      },
      "source": [
        ""
      ],
      "execution_count": 11,
      "outputs": []
    },
    {
      "cell_type": "code",
      "metadata": {
        "id": "d7Eg4LifkMjm"
      },
      "source": [
        ""
      ],
      "execution_count": 11,
      "outputs": []
    },
    {
      "cell_type": "code",
      "metadata": {
        "id": "jgpaLH-XkMl1"
      },
      "source": [
        ""
      ],
      "execution_count": 11,
      "outputs": []
    },
    {
      "cell_type": "code",
      "metadata": {
        "id": "hBk6fRNBkMoX"
      },
      "source": [
        ""
      ],
      "execution_count": 11,
      "outputs": []
    },
    {
      "cell_type": "code",
      "metadata": {
        "id": "SLJC4MwgkMq5"
      },
      "source": [
        ""
      ],
      "execution_count": 11,
      "outputs": []
    },
    {
      "cell_type": "code",
      "metadata": {
        "id": "iZ47UeiikMtj"
      },
      "source": [
        ""
      ],
      "execution_count": 11,
      "outputs": []
    },
    {
      "cell_type": "code",
      "metadata": {
        "id": "0bXJEKYjkMwL"
      },
      "source": [
        ""
      ],
      "execution_count": 11,
      "outputs": []
    },
    {
      "cell_type": "code",
      "metadata": {
        "id": "DffbJpi7kMyn"
      },
      "source": [
        ""
      ],
      "execution_count": 11,
      "outputs": []
    },
    {
      "cell_type": "code",
      "metadata": {
        "id": "x42rwjJqkM1I"
      },
      "source": [
        ""
      ],
      "execution_count": 11,
      "outputs": []
    },
    {
      "cell_type": "code",
      "metadata": {
        "id": "aH64LkbpkM3t"
      },
      "source": [
        ""
      ],
      "execution_count": 11,
      "outputs": []
    },
    {
      "cell_type": "code",
      "metadata": {
        "id": "lLGyRywPkM6K"
      },
      "source": [
        ""
      ],
      "execution_count": 11,
      "outputs": []
    },
    {
      "cell_type": "code",
      "metadata": {
        "id": "e0sTOAAOkM83"
      },
      "source": [
        ""
      ],
      "execution_count": 11,
      "outputs": []
    },
    {
      "cell_type": "code",
      "metadata": {
        "id": "Qc7eGP5AkM_j"
      },
      "source": [
        ""
      ],
      "execution_count": 11,
      "outputs": []
    },
    {
      "cell_type": "code",
      "metadata": {
        "id": "H5e-VXKmkNB2"
      },
      "source": [
        ""
      ],
      "execution_count": 11,
      "outputs": []
    },
    {
      "cell_type": "code",
      "metadata": {
        "id": "fBzV3JBxkNEY"
      },
      "source": [
        ""
      ],
      "execution_count": 11,
      "outputs": []
    },
    {
      "cell_type": "code",
      "metadata": {
        "id": "4r1bZ-xDkNGz"
      },
      "source": [
        ""
      ],
      "execution_count": 11,
      "outputs": []
    },
    {
      "cell_type": "code",
      "metadata": {
        "id": "fwnqIrE2kNJr"
      },
      "source": [
        ""
      ],
      "execution_count": 11,
      "outputs": []
    },
    {
      "cell_type": "code",
      "metadata": {
        "id": "-i2DQ9QekNMD"
      },
      "source": [
        ""
      ],
      "execution_count": 11,
      "outputs": []
    },
    {
      "cell_type": "code",
      "metadata": {
        "id": "s0ay5UJokNOu"
      },
      "source": [
        ""
      ],
      "execution_count": 11,
      "outputs": []
    },
    {
      "cell_type": "code",
      "metadata": {
        "id": "gHBSDAIhkNRG"
      },
      "source": [
        ""
      ],
      "execution_count": 11,
      "outputs": []
    },
    {
      "cell_type": "code",
      "metadata": {
        "id": "skZvCNN1kNTX"
      },
      "source": [
        ""
      ],
      "execution_count": 11,
      "outputs": []
    },
    {
      "cell_type": "code",
      "metadata": {
        "id": "AW9lnGL2kNVx"
      },
      "source": [
        ""
      ],
      "execution_count": 11,
      "outputs": []
    },
    {
      "cell_type": "code",
      "metadata": {
        "id": "C_zyFYL7kNYB"
      },
      "source": [
        ""
      ],
      "execution_count": 11,
      "outputs": []
    },
    {
      "cell_type": "code",
      "metadata": {
        "id": "PywJlAlGkNaj"
      },
      "source": [
        ""
      ],
      "execution_count": 11,
      "outputs": []
    },
    {
      "cell_type": "code",
      "metadata": {
        "id": "wzeaHterkNdC"
      },
      "source": [
        ""
      ],
      "execution_count": 11,
      "outputs": []
    },
    {
      "cell_type": "code",
      "metadata": {
        "id": "hvPCTYkJkNfr"
      },
      "source": [
        ""
      ],
      "execution_count": 11,
      "outputs": []
    }
  ]
}